{
 "cells": [
  {
   "cell_type": "code",
   "execution_count": 2,
   "metadata": {},
   "outputs": [],
   "source": [
    "import json\n",
    "import numpy as np"
   ]
  },
  {
   "cell_type": "code",
   "execution_count": 24,
   "metadata": {},
   "outputs": [
    {
     "name": "stdout",
     "output_type": "stream",
     "text": [
      "CPU hours\n",
      "Normalization\n",
      "Sigma\n",
      "density\n",
      "directory_name\n",
      "intrisic error normalization\n",
      "local time (start)\n",
      "mpi_size\n",
      "mu0\n",
      "parameters\n",
      "pwd\n",
      "thread_ID\n",
      "timers\n",
      "aaa    Sigma   \n",
      "aaa    Xi      \n",
      "aaa    abs     \n",
      "aaa    acc_K   \n",
      "aaa    exp     \n",
      "aaa    heatbath\n",
      "aaa    matrix  \n",
      "aaa    rho     \n",
      "aaa    total   \n",
      "{'Sigma   ': '93.9424 μs   19.6972 %', 'Xi      ': '102.132 μs   21.4144 %', 'abs     ': '2.89257 μs   0.606495 %', 'acc_K   ': '211.382 μs   44.3213 %', 'exp     ': '46.7668 μs   9.80574 %', 'heatbath': '3.62202 μs   0.759441 %', 'matrix  ': '2.42293 μs   0.508024 %', 'rho     ': '13.3252 μs   2.79394 %', 'total   ': '476.932 μs   100 %'}\n"
     ]
    }
   ],
   "source": [
    "filename = \"/Users/rrossi/ffd/examples/SquareTriangular1PICluster/out/square_6x6_B2.234_n0.875_t1_tp0/data_27_ykuxCrmGpK.json\"\n",
    "with open(filename) as json_file:\n",
    "    jdic = json.load(json_file)\n",
    "    #print(jdic)\n",
    "#    jd = data[\"jd\"]\n",
    "#    vec = np.array(jd[\"A complex vector\"])\n",
    " #   print(vec)\n",
    "for key in jdic:\n",
    "    print(key)\n",
    "for key in jdic[\"timers\"]:\n",
    "    print(\"aaa   \", key)\n",
    "print(jdic[\"timers\"])"
   ]
  },
  {
   "cell_type": "code",
   "execution_count": null,
   "metadata": {},
   "outputs": [],
   "source": []
  },
  {
   "cell_type": "code",
   "execution_count": null,
   "metadata": {},
   "outputs": [],
   "source": []
  }
 ],
 "metadata": {
  "kernelspec": {
   "display_name": "Python 3",
   "language": "python",
   "name": "python3"
  },
  "language_info": {
   "codemirror_mode": {
    "name": "ipython",
    "version": 3
   },
   "file_extension": ".py",
   "mimetype": "text/x-python",
   "name": "python",
   "nbconvert_exporter": "python",
   "pygments_lexer": "ipython3",
   "version": "3.9.5"
  }
 },
 "nbformat": 4,
 "nbformat_minor": 4
}
